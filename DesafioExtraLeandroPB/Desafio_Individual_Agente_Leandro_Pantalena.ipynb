{
  "cells": [
    {
      "cell_type": "markdown",
      "source": [
        "#**Como rodar no Google Colab o Agente Genérico de Exploração e Análise de Dados para arquivos tipo (CSV)**\n",
        "\n",
        "\n",
        "1) **Insira o valor para a secret da OpenAI, com o nome \"OPENAI_API_KEY\" :**\n",
        "\n",
        "2) **Insira o valor para a secret do NGROK, com o nome \"NGROK_AUTHTOKEN\" :**\n",
        "\n",
        "3) **No Colab, menu Ambiente de execução, clicar em Executar todos :**\n",
        "\n",
        "4) **Caso na célula inicial pip install apareça o erro abaixo, ignorar o erro**\n",
        "\n",
        "```bash\n",
        "ERROR: pip's dependency resolver does not currently take into account all the packages that are installed. This behaviour is the source of the following dependency conflicts.\n",
        "google-adk 1.14.1 requires watchdog<7.0.0,>=6.0.0, but you have watchdog 4.0.2 which is incompatible.\n",
        "```\n",
        "\n",
        "5) **A execução da célula com o código abaixo em referência, irá gerar a URL pública, que deverá ser usada para acessar a interface do agente :**\n",
        "```python\n",
        "# Gera a URL publica via NGROK\n",
        "from pyngrok import ngrok\n",
        "ngrok.kill()\n",
        "public_url = ngrok.connect(addr=\"8501\", proto=\"http\")\n",
        "public_url\n",
        "```\n",
        "*> Clique no link `public_url` exibido pela célula anterior para abrir o app.*\n"
      ],
      "metadata": {
        "id": "eCp1HQ1Jbyzp"
      }
    },
    {
      "cell_type": "markdown",
      "source": [
        "#**Inicio da execução do agente ✌✌✌**"
      ],
      "metadata": {
        "id": "e4MsUgCFfQ_k"
      }
    },
    {
      "cell_type": "code",
      "source": [
        "# Realiza a instalação dos pacotes necessários\n",
        "!pip install streamlit==1.38.0 pandas>=2.2.2 numpy>=1.26.4 matplotlib>=3.9.0 plotly>=5.22.0 scikit-learn>=1.4.2 python-dateutil>=2.9.0.post0 openai>=1.50.0 pyngrok>=7.2.0"
      ],
      "metadata": {
        "colab": {
          "base_uri": "https://localhost:8080/"
        },
        "id": "56Ip_0NYWhR6",
        "outputId": "7802ac57-7dee-4d7e-edaf-503a7c15f4cc"
      },
      "execution_count": 1,
      "outputs": [
        {
          "output_type": "stream",
          "name": "stdout",
          "text": [
            "\u001b[31mERROR: pip's dependency resolver does not currently take into account all the packages that are installed. This behaviour is the source of the following dependency conflicts.\n",
            "google-adk 1.14.1 requires watchdog<7.0.0,>=6.0.0, but you have watchdog 4.0.2 which is incompatible.\u001b[0m\u001b[31m\n",
            "\u001b[0m"
          ]
        }
      ]
    },
    {
      "cell_type": "code",
      "source": [
        "# Baixa o arquivo app.py do github, que contém o código do agente\n",
        "!wget -O app.py https://raw.githubusercontent.com/Leandpb/Grupo8_I2A2/refs/heads/main/DesafioExtraLeandroPB/app.py\n"
      ],
      "metadata": {
        "colab": {
          "base_uri": "https://localhost:8080/"
        },
        "id": "kZ3mjMswSWOW",
        "outputId": "ac049930-711d-423c-b85d-9db89fef38d1"
      },
      "execution_count": 2,
      "outputs": [
        {
          "output_type": "stream",
          "name": "stdout",
          "text": [
            "--2025-09-30 21:51:58--  https://raw.githubusercontent.com/Leandpb/Grupo8_I2A2/refs/heads/main/DesafioExtraLeandroPB/app.py\n",
            "Resolving raw.githubusercontent.com (raw.githubusercontent.com)... 185.199.109.133, 185.199.108.133, 185.199.110.133, ...\n",
            "Connecting to raw.githubusercontent.com (raw.githubusercontent.com)|185.199.109.133|:443... connected.\n",
            "HTTP request sent, awaiting response... 200 OK\n",
            "Length: 15268 (15K) [text/plain]\n",
            "Saving to: ‘app.py’\n",
            "\n",
            "\rapp.py                0%[                    ]       0  --.-KB/s               \rapp.py              100%[===================>]  14.91K  --.-KB/s    in 0s      \n",
            "\n",
            "2025-09-30 21:51:59 (93.9 MB/s) - ‘app.py’ saved [15268/15268]\n",
            "\n"
          ]
        }
      ]
    },
    {
      "cell_type": "code",
      "execution_count": 3,
      "metadata": {
        "id": "sqCfRHME5v2a"
      },
      "outputs": [],
      "source": [
        "# Estabelece as variáveis de ambiente com os valores dos secrets\n",
        "\n",
        "from google.colab import userdata\n",
        "import os\n",
        "# Set the Open AI API KEY from Colab secrets\n",
        "os.environ[\"OPENAI_API_KEY\"] = userdata.get('OPENAI_API_KEY')\n",
        "# Set the ngrok authtoken from Colab secrets\n",
        "os.environ[\"NGROK_AUTHTOKEN\"] = userdata.get('NGROK_AUTHTOKEN')"
      ]
    },
    {
      "cell_type": "code",
      "execution_count": 4,
      "metadata": {
        "colab": {
          "base_uri": "https://localhost:8080/"
        },
        "id": "rAjz7f5i1Wm2",
        "outputId": "053515fd-016c-4de5-98b6-3cfb033de7df"
      },
      "outputs": [
        {
          "output_type": "stream",
          "name": "stdout",
          "text": []
        },
        {
          "output_type": "execute_result",
          "data": {
            "text/plain": [
              "<NgrokTunnel: \"https://unappallingly-unleached-amina.ngrok-free.dev\" -> \"http://localhost:8501\">"
            ]
          },
          "metadata": {},
          "execution_count": 4
        }
      ],
      "source": [
        "# Gera a URL publica via NGROK\n",
        "\n",
        "from pyngrok import ngrok\n",
        "ngrok.kill()\n",
        "public_url = ngrok.connect(addr=\"8501\", proto=\"http\")\n",
        "public_url"
      ]
    },
    {
      "cell_type": "code",
      "execution_count": null,
      "metadata": {
        "colab": {
          "base_uri": "https://localhost:8080/"
        },
        "id": "cNswQfP_2x17",
        "outputId": "82b865c2-f815-411d-edb3-961e5d455ebe"
      },
      "outputs": [
        {
          "output_type": "stream",
          "name": "stdout",
          "text": [
            "\n",
            "Collecting usage statistics. To deactivate, set browser.gatherUsageStats to false.\n",
            "\u001b[0m\n",
            "\u001b[0m\n",
            "\u001b[34m\u001b[1m  You can now view your Streamlit app in your browser.\u001b[0m\n",
            "\u001b[0m\n",
            "\u001b[34m  URL: \u001b[0m\u001b[1mhttp://0.0.0.0:8501\u001b[0m\n",
            "\u001b[0m\n"
          ]
        },
        {
          "output_type": "stream",
          "name": "stderr",
          "text": [
            "WARNING:pyngrok.process.ngrok:t=2025-09-30T21:52:07+0000 lvl=warn msg=\"failed to check for update\" obj=updater err=\"Post \\\"https://update.equinox.io/check\\\": context deadline exceeded\"\n"
          ]
        },
        {
          "output_type": "stream",
          "name": "stdout",
          "text": [
            "/content/app.py:409: DeprecationWarning:\n",
            "\n",
            "datetime.datetime.utcnow() is deprecated and scheduled for removal in a future version. Use timezone-aware objects to represent datetimes in UTC: datetime.datetime.now(datetime.UTC).\n",
            "\n"
          ]
        }
      ],
      "source": [
        "\n",
        "# Executa a aplicação via Streamlit\n",
        "\n",
        "!streamlit run /content/app.py --server.address 0.0.0.0 --server.port 8501"
      ]
    },
    {
      "cell_type": "code",
      "execution_count": null,
      "metadata": {
        "id": "CkvrbJeZdrsE"
      },
      "outputs": [],
      "source": []
    }
  ],
  "metadata": {
    "colab": {
      "provenance": []
    },
    "kernelspec": {
      "display_name": "Python 3",
      "name": "python3"
    },
    "language_info": {
      "name": "python"
    }
  },
  "nbformat": 4,
  "nbformat_minor": 0
}